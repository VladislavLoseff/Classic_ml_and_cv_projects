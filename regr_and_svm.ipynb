{
 "cells": [
  {
   "cell_type": "markdown",
   "id": "40b6cc26",
   "metadata": {},
   "source": [
    "Лосев В.А. ФН12-21м Вариант 6"
   ]
  },
  {
   "cell_type": "code",
   "execution_count": 1,
   "id": "0fa19585",
   "metadata": {},
   "outputs": [],
   "source": [
    "import pandas as pd\n",
    "import numpy as np\n",
    "import scipy as sc\n",
    "import matplotlib.pyplot as plt\n"
   ]
  },
  {
   "cell_type": "code",
   "execution_count": 2,
   "id": "14e78bc3",
   "metadata": {},
   "outputs": [],
   "source": [
    "data=pd.read_csv(r'C:\\Users\\Acer\\Documents\\FN12\\lin_regr_05.txt',sep=\" \")\n",
    "data.columns=['x','y']"
   ]
  },
  {
   "cell_type": "code",
   "execution_count": 3,
   "id": "cdc1da1c",
   "metadata": {},
   "outputs": [
    {
     "data": {
      "text/html": [
       "<div>\n",
       "<style scoped>\n",
       "    .dataframe tbody tr th:only-of-type {\n",
       "        vertical-align: middle;\n",
       "    }\n",
       "\n",
       "    .dataframe tbody tr th {\n",
       "        vertical-align: top;\n",
       "    }\n",
       "\n",
       "    .dataframe thead th {\n",
       "        text-align: right;\n",
       "    }\n",
       "</style>\n",
       "<table border=\"1\" class=\"dataframe\">\n",
       "  <thead>\n",
       "    <tr style=\"text-align: right;\">\n",
       "      <th></th>\n",
       "      <th>x</th>\n",
       "      <th>y</th>\n",
       "    </tr>\n",
       "  </thead>\n",
       "  <tbody>\n",
       "    <tr>\n",
       "      <th>0</th>\n",
       "      <td>0.06</td>\n",
       "      <td>-1.5735</td>\n",
       "    </tr>\n",
       "    <tr>\n",
       "      <th>1</th>\n",
       "      <td>0.12</td>\n",
       "      <td>-2.6422</td>\n",
       "    </tr>\n",
       "    <tr>\n",
       "      <th>2</th>\n",
       "      <td>0.18</td>\n",
       "      <td>-2.8779</td>\n",
       "    </tr>\n",
       "    <tr>\n",
       "      <th>3</th>\n",
       "      <td>0.24</td>\n",
       "      <td>-2.2401</td>\n",
       "    </tr>\n",
       "    <tr>\n",
       "      <th>4</th>\n",
       "      <td>0.30</td>\n",
       "      <td>-0.9333</td>\n",
       "    </tr>\n",
       "    <tr>\n",
       "      <th>5</th>\n",
       "      <td>0.36</td>\n",
       "      <td>0.6503</td>\n",
       "    </tr>\n",
       "    <tr>\n",
       "      <th>6</th>\n",
       "      <td>0.42</td>\n",
       "      <td>2.0521</td>\n",
       "    </tr>\n",
       "    <tr>\n",
       "      <th>7</th>\n",
       "      <td>0.48</td>\n",
       "      <td>2.8479</td>\n",
       "    </tr>\n",
       "    <tr>\n",
       "      <th>8</th>\n",
       "      <td>0.54</td>\n",
       "      <td>2.8860</td>\n",
       "    </tr>\n",
       "    <tr>\n",
       "      <th>9</th>\n",
       "      <td>0.60</td>\n",
       "      <td>2.2394</td>\n",
       "    </tr>\n",
       "  </tbody>\n",
       "</table>\n",
       "</div>"
      ],
      "text/plain": [
       "      x       y\n",
       "0  0.06 -1.5735\n",
       "1  0.12 -2.6422\n",
       "2  0.18 -2.8779\n",
       "3  0.24 -2.2401\n",
       "4  0.30 -0.9333\n",
       "5  0.36  0.6503\n",
       "6  0.42  2.0521\n",
       "7  0.48  2.8479\n",
       "8  0.54  2.8860\n",
       "9  0.60  2.2394"
      ]
     },
     "execution_count": 3,
     "metadata": {},
     "output_type": "execute_result"
    }
   ],
   "source": [
    "data.head(10)"
   ]
  },
  {
   "cell_type": "code",
   "execution_count": 4,
   "id": "a728433e",
   "metadata": {},
   "outputs": [
    {
     "data": {
      "text/plain": [
       "<matplotlib.collections.PathCollection at 0x17cec2e4d50>"
      ]
     },
     "execution_count": 4,
     "metadata": {},
     "output_type": "execute_result"
    },
    {
     "data": {
      "image/png": "[encoded data removed]",
      "text/plain": [
       "<Figure size 640x480 with 1 Axes>"
      ]
     },
     "metadata": {},
     "output_type": "display_data"
    }
   ],
   "source": [
    "plt.scatter(data['x'],data['y'])"
   ]
  },
  {
   "cell_type": "code",
   "execution_count": 5,
   "id": "0c52833d",
   "metadata": {},
   "outputs": [],
   "source": [
    "import math"
   ]
  },
  {
   "cell_type": "markdown",
   "id": "cf6bcbfb",
   "metadata": {},
   "source": [
    "Определим функции из спремляющего пространтсва"
   ]
  },
  {
   "cell_type": "code",
   "execution_count": 6,
   "id": "48e7292c",
   "metadata": {},
   "outputs": [
    {
     "name": "stdout",
     "output_type": "stream",
     "text": [
      "32\n"
     ]
    }
   ],
   "source": [
    "\n",
    "\n",
    "K=math.floor((data.shape[0]/3))\n",
    "print(K)"
   ]
  },
  {
   "cell_type": "code",
   "execution_count": 7,
   "id": "eae5a211",
   "metadata": {},
   "outputs": [
    {
     "data": {
      "text/plain": [
       "0.06"
      ]
     },
     "execution_count": 7,
     "metadata": {},
     "output_type": "execute_result"
    }
   ],
   "source": [
    "T=round(data['x'][2]-data['x'][1],4)\n",
    "T"
   ]
  },
  {
   "cell_type": "code",
   "execution_count": 8,
   "id": "c532fbfa",
   "metadata": {},
   "outputs": [
    {
     "name": "stdout",
     "output_type": "stream",
     "text": [
      "97\n"
     ]
    }
   ],
   "source": [
    "l=len(data['x'])\n",
    "print(l)"
   ]
  },
  {
   "cell_type": "code",
   "execution_count": 9,
   "id": "dbb18868",
   "metadata": {},
   "outputs": [],
   "source": [
    "\n",
    "def funcsystem(t):\n",
    "    functions=[]\n",
    "    functions.append(math.exp(((t-data['x'][0]/T)**2)*(-0.5)))\n",
    "    for i in range(1,K):\n",
    "        functions.append(math.exp((((t-data['x'][i*3-1])/T)**2)*(-0.5)))\n",
    "        \n",
    "    return functions    "
   ]
  },
  {
   "cell_type": "code",
   "execution_count": 10,
   "id": "57f95178",
   "metadata": {},
   "outputs": [],
   "source": [
    "#получим матрицу признаков\n",
    "matr=np.zeros((l,K))\n",
    "for i in range(l):\n",
    "    matr[i]=funcsystem(data['x'][i])\n",
    "    "
   ]
  },
  {
   "cell_type": "code",
   "execution_count": 11,
   "id": "3f64d198",
   "metadata": {},
   "outputs": [
    {
     "data": {
      "text/plain": [
       "array([[6.42878198e-01, 1.35335283e-01, 3.72665317e-06, ...,\n",
       "        0.00000000e+00, 0.00000000e+00, 0.00000000e+00],\n",
       "       [6.78955290e-01, 6.06530660e-01, 3.35462628e-04, ...,\n",
       "        0.00000000e+00, 0.00000000e+00, 0.00000000e+00],\n",
       "       [7.14480195e-01, 1.00000000e+00, 1.11089965e-02, ...,\n",
       "        0.00000000e+00, 0.00000000e+00, 0.00000000e+00],\n",
       "       ...,\n",
       "       [1.59667839e-05, 0.00000000e+00, 0.00000000e+00, ...,\n",
       "        1.26641655e-14, 3.72665317e-06, 1.35335283e-01],\n",
       "       [1.20216664e-05, 0.00000000e+00, 0.00000000e+00, ...,\n",
       "        2.57675711e-18, 1.52299797e-08, 1.11089965e-02],\n",
       "       [9.01879342e-06, 0.00000000e+00, 0.00000000e+00, ...,\n",
       "        1.92874985e-22, 2.28973485e-11, 3.35462628e-04]])"
      ]
     },
     "execution_count": 11,
     "metadata": {},
     "output_type": "execute_result"
    }
   ],
   "source": [
    "matr"
   ]
  },
  {
   "cell_type": "code",
   "execution_count": 12,
   "id": "3121b9a1",
   "metadata": {},
   "outputs": [
    {
     "name": "stdout",
     "output_type": "stream",
     "text": [
      "97\n"
     ]
    }
   ],
   "source": [
    "n=len(data['x'].to_numpy())\n",
    "print(n)"
   ]
  },
  {
   "cell_type": "markdown",
   "id": "49715402",
   "metadata": {},
   "source": [
    "Решение первой системы при использовании разложения Холецкого"
   ]
  },
  {
   "cell_type": "code",
   "execution_count": 13,
   "id": "efa7f658",
   "metadata": {},
   "outputs": [],
   "source": [
    "def solvefirstslay(a,y,K):\n",
    "    x=[0 for i in range(K)]\n",
    "    x[-1]=y[-1]/a[-1][-1]\n",
    "    #sumx=0\n",
    "    for i in range(K-1,-1,-1):#тут n-1,-1,1\n",
    "        sumx=0\n",
    "        for j in range(i+1,K): #тут i+1,#n\n",
    "        \n",
    "            sumx+=a[i][j]*x[j]\n",
    "            x[i]=(y[i]-sumx)/a[i][i]\n",
    "    return x     "
   ]
  },
  {
   "cell_type": "code",
   "execution_count": 14,
   "id": "6875617e",
   "metadata": {},
   "outputs": [],
   "source": [
    "def matmul(A,B):\n",
    "    nA=len(A)#кол-во строк первой матрицы\n",
    "    mA=len(A[0])#кол-во столбцов первой матрицы\n",
    "    nB=len(B)#кол-во строк второй матрицы\n",
    "    mB=len(B[0])#кол-во столбцов первой матрицы\n",
    "    multiResult=[[0 for i in range(mB)] for j in range(nA)]\n",
    "    for i in range(nA):\n",
    "        for j in range(mB):\n",
    "            for k in range(nB):\n",
    "                multiResult[i][j] += A[i][k] * B[k][j]\n",
    "    return multiResult\n",
    "\n",
    "\n"
   ]
  },
  {
   "cell_type": "code",
   "execution_count": 15,
   "id": "500514cf",
   "metadata": {},
   "outputs": [],
   "source": [
    "def vectmatmul(A,y): #в случае умножения матрицы на numpy-массив\n",
    "    nA=len(A)#кол-во строк первой матрицы\n",
    "    mA=len(A[0])#кол-во столбцов первой матрицы\n",
    "    nB=y.size#кол-во элементов массива\n",
    "   # mB=len(B[0])#кол-во столбцов первой матрицы\n",
    "    multiResult=[0 for j in range(nA)]\n",
    "    for i in range(nA):\n",
    "        for j in range(nB):\n",
    "            \n",
    "            multiResult[i] += A[i][j] * y[j]\n",
    "    return multiResult"
   ]
  },
  {
   "cell_type": "code",
   "execution_count": 16,
   "id": "181691d4",
   "metadata": {},
   "outputs": [
    {
     "name": "stdout",
     "output_type": "stream",
     "text": [
      "[61, 84, 30]\n"
     ]
    }
   ],
   "source": [
    "A=[[1,6,2],[9,4,5],[5,0,3]]\n",
    "B=np.array([3,8,5])\n",
    "print(vectmatmul(A,B))"
   ]
  },
  {
   "cell_type": "markdown",
   "id": "75f96f82",
   "metadata": {},
   "source": [
    "Решение второй системы для нахождения вектора значений x"
   ]
  },
  {
   "cell_type": "code",
   "execution_count": 17,
   "id": "f8f161b7",
   "metadata": {},
   "outputs": [],
   "source": [
    "def solvesecondslay(a,y,K):\n",
    "    x=[i for i in range(K)]\n",
    "    x[0]=y[0]/a[0][0]\n",
    "    sumx=0\n",
    "    for i in range(1,K):#(1,n)\n",
    "        sumx=0\n",
    "        for j in range(0,i):\n",
    "        \n",
    "            sumx+=a[i][j]*x[j]\n",
    "            x[i]=(y[i]-sumx)/a[i][i]\n",
    "    return x       "
   ]
  },
  {
   "cell_type": "code",
   "execution_count": 18,
   "id": "2e3634a2",
   "metadata": {},
   "outputs": [],
   "source": [
    "def matrtranspose(matrix,n,m):\n",
    "    tr=np.array([[0 for i in range(m) ] for j in range(n)])\n",
    "    for i in range(n):\n",
    "        for j in range(m):\n",
    "            tr[i][j]=matrix[j][i]\n",
    "    return  tr"
   ]
  },
  {
   "cell_type": "code",
   "execution_count": 19,
   "id": "c87cfdac",
   "metadata": {},
   "outputs": [],
   "source": [
    "totalres=0\n",
    "\n",
    "\n",
    "totalres=sc.linalg.cholesky(matmul(matr.T,matr))"
   ]
  },
  {
   "cell_type": "code",
   "execution_count": 20,
   "id": "5dbe462a",
   "metadata": {},
   "outputs": [],
   "source": [
    "\n",
    "firstslay=solvefirstslay(totalres,vectmatmul(matr.T,data['y']),K)\n",
    "finalresult=solvesecondslay(totalres.T,firstslay,K)\n",
    "\n",
    "\n"
   ]
  },
  {
   "cell_type": "code",
   "execution_count": 21,
   "id": "ca903179",
   "metadata": {},
   "outputs": [],
   "source": [
    "\n",
    "massiv=[]\n",
    "for i in np.arange(0,6,0.01):\n",
    "    massiv.append(np.dot(funcsystem(i),finalresult))"
   ]
  },
  {
   "cell_type": "markdown",
   "id": "3a6803b8",
   "metadata": {},
   "source": [
    "Полученный результат"
   ]
  },
  {
   "cell_type": "code",
   "execution_count": 22,
   "id": "808e1d02",
   "metadata": {},
   "outputs": [
    {
     "data": {
      "text/plain": [
       "[<matplotlib.lines.Line2D at 0x17cec525a50>]"
      ]
     },
     "execution_count": 22,
     "metadata": {},
     "output_type": "execute_result"
    },
    {
     "data": {
      "image/png": "[encoded data removed]",
      "text/plain": [
       "<Figure size 640x480 with 1 Axes>"
      ]
     },
     "metadata": {},
     "output_type": "display_data"
    }
   ],
   "source": [
    "plt.scatter(data['x'],data['y'])\n",
    "\n",
    "plt.plot(np.arange(0,6,0.01),massiv,color=(1,0,0))"
   ]
  },
  {
   "cell_type": "markdown",
   "id": "3ca90a4a",
   "metadata": {},
   "source": [
    "Оценки остаточной дисперсии и матрицы ковариации"
   ]
  },
  {
   "cell_type": "code",
   "execution_count": 23,
   "id": "9f65977c",
   "metadata": {},
   "outputs": [
    {
     "name": "stdout",
     "output_type": "stream",
     "text": [
      "sigma^2=2.6176798951819276\n"
     ]
    }
   ],
   "source": [
    "\n",
    "sigm2=0\n",
    "for i in range(n):\n",
    "    sigm2+=(data['y'][i]-np.dot(funcsystem(i),finalresult))**2\n",
    "    \n",
    "sigm2=sigm2/(n-K)\n",
    "print(f'sigma^2={sigm2}')"
   ]
  },
  {
   "cell_type": "code",
   "execution_count": 24,
   "id": "593b90af",
   "metadata": {},
   "outputs": [
    {
     "data": {
      "text/plain": [
       "array([[ 2.75482807e+00, -2.49649007e+00, -2.60185747e+00, ...,\n",
       "        -4.29062666e-04, -1.96715947e-04, -9.17184708e-05],\n",
       "       [-2.49649007e+00,  3.75596671e+00,  2.19870666e+00, ...,\n",
       "         3.88826691e-04,  1.78268623e-04,  8.31174381e-05],\n",
       "       [-2.60185747e+00,  2.19870666e+00,  3.96782438e+00, ...,\n",
       "         4.05237595e-04,  1.85792668e-04,  8.66255107e-05],\n",
       "       ...,\n",
       "       [-4.29062666e-04,  3.88826691e-04,  4.05237595e-04, ...,\n",
       "         1.51063057e+00, -1.60933881e-01,  1.67723884e-02],\n",
       "       [-1.96715947e-04,  1.78268623e-04,  1.85792668e-04, ...,\n",
       "        -1.60933881e-01,  1.51044215e+00, -1.59146629e-01],\n",
       "       [-9.17184708e-05,  8.31174381e-05,  8.66255107e-05, ...,\n",
       "         1.67723884e-02, -1.59146629e-01,  1.49348336e+00]])"
      ]
     },
     "execution_count": 24,
     "metadata": {},
     "output_type": "execute_result"
    }
   ],
   "source": [
    "covmat=sigm2*np.linalg.inv(matmul(matr.T,matr))\n",
    "covmat"
   ]
  },
  {
   "cell_type": "code",
   "execution_count": 25,
   "id": "dd4f18df",
   "metadata": {},
   "outputs": [],
   "source": [
    "def matrtranspose(matrix,n,m):\n",
    "    tr=np.array([[0 for i in range(m) ] for j in range(n)])\n",
    "    for i in range(n):\n",
    "        for j in range(m):\n",
    "            tr[i][j]=matrix[j][i]\n",
    "    return  tr   "
   ]
  },
  {
   "cell_type": "code",
   "execution_count": 26,
   "id": "dfdcdf7c",
   "metadata": {},
   "outputs": [],
   "source": [
    "\n",
    "#Задание 2\n",
    "data2=pd.read_csv(r'C:\\Users\\Acer\\Documents\\FN12\\svm_08.txt',sep=\" \")\n",
    "data2.columns=['x','y','labels']"
   ]
  },
  {
   "cell_type": "code",
   "execution_count": 27,
   "id": "7f523ae6",
   "metadata": {},
   "outputs": [
    {
     "data": {
      "text/html": [
       "<div>\n",
       "<style scoped>\n",
       "    .dataframe tbody tr th:only-of-type {\n",
       "        vertical-align: middle;\n",
       "    }\n",
       "\n",
       "    .dataframe tbody tr th {\n",
       "        vertical-align: top;\n",
       "    }\n",
       "\n",
       "    .dataframe thead th {\n",
       "        text-align: right;\n",
       "    }\n",
       "</style>\n",
       "<table border=\"1\" class=\"dataframe\">\n",
       "  <thead>\n",
       "    <tr style=\"text-align: right;\">\n",
       "      <th></th>\n",
       "      <th>x</th>\n",
       "      <th>y</th>\n",
       "      <th>labels</th>\n",
       "    </tr>\n",
       "  </thead>\n",
       "  <tbody>\n",
       "    <tr>\n",
       "      <th>0</th>\n",
       "      <td>(-4.172616860152805529,</td>\n",
       "      <td>2.833352012127022590);</td>\n",
       "      <td>-1</td>\n",
       "    </tr>\n",
       "    <tr>\n",
       "      <th>1</th>\n",
       "      <td>(-3.416728713172945575,</td>\n",
       "      <td>2.351908736762950092);</td>\n",
       "      <td>-1</td>\n",
       "    </tr>\n",
       "    <tr>\n",
       "      <th>2</th>\n",
       "      <td>(1.108897540218610756,</td>\n",
       "      <td>0.207458479638210597);</td>\n",
       "      <td>1</td>\n",
       "    </tr>\n",
       "    <tr>\n",
       "      <th>3</th>\n",
       "      <td>(-2.025220981104188134,</td>\n",
       "      <td>3.025074065590016126);</td>\n",
       "      <td>-1</td>\n",
       "    </tr>\n",
       "    <tr>\n",
       "      <th>4</th>\n",
       "      <td>(0.070942310344944415,</td>\n",
       "      <td>1.323907685509638998);</td>\n",
       "      <td>1</td>\n",
       "    </tr>\n",
       "  </tbody>\n",
       "</table>\n",
       "</div>"
      ],
      "text/plain": [
       "                         x                       y  labels\n",
       "0  (-4.172616860152805529,  2.833352012127022590);      -1\n",
       "1  (-3.416728713172945575,  2.351908736762950092);      -1\n",
       "2   (1.108897540218610756,  0.207458479638210597);       1\n",
       "3  (-2.025220981104188134,  3.025074065590016126);      -1\n",
       "4   (0.070942310344944415,  1.323907685509638998);       1"
      ]
     },
     "execution_count": 27,
     "metadata": {},
     "output_type": "execute_result"
    }
   ],
   "source": [
    "data2.head()"
   ]
  },
  {
   "cell_type": "code",
   "execution_count": 28,
   "id": "172966ae",
   "metadata": {},
   "outputs": [],
   "source": [
    "data2['x']=data2['x'].apply(lambda x:x.lstrip('(').rstrip(','))\n",
    "data2['y']=data2['y'].apply(lambda x:x.rstrip(');'))"
   ]
  },
  {
   "cell_type": "code",
   "execution_count": 29,
   "id": "141263b8",
   "metadata": {},
   "outputs": [
    {
     "data": {
      "text/html": [
       "<div>\n",
       "<style scoped>\n",
       "    .dataframe tbody tr th:only-of-type {\n",
       "        vertical-align: middle;\n",
       "    }\n",
       "\n",
       "    .dataframe tbody tr th {\n",
       "        vertical-align: top;\n",
       "    }\n",
       "\n",
       "    .dataframe thead th {\n",
       "        text-align: right;\n",
       "    }\n",
       "</style>\n",
       "<table border=\"1\" class=\"dataframe\">\n",
       "  <thead>\n",
       "    <tr style=\"text-align: right;\">\n",
       "      <th></th>\n",
       "      <th>x</th>\n",
       "      <th>y</th>\n",
       "      <th>labels</th>\n",
       "    </tr>\n",
       "  </thead>\n",
       "  <tbody>\n",
       "    <tr>\n",
       "      <th>0</th>\n",
       "      <td>-4.172616860152805529</td>\n",
       "      <td>2.833352012127022590</td>\n",
       "      <td>-1</td>\n",
       "    </tr>\n",
       "    <tr>\n",
       "      <th>1</th>\n",
       "      <td>-3.416728713172945575</td>\n",
       "      <td>2.351908736762950092</td>\n",
       "      <td>-1</td>\n",
       "    </tr>\n",
       "    <tr>\n",
       "      <th>2</th>\n",
       "      <td>1.108897540218610756</td>\n",
       "      <td>0.207458479638210597</td>\n",
       "      <td>1</td>\n",
       "    </tr>\n",
       "    <tr>\n",
       "      <th>3</th>\n",
       "      <td>-2.025220981104188134</td>\n",
       "      <td>3.025074065590016126</td>\n",
       "      <td>-1</td>\n",
       "    </tr>\n",
       "    <tr>\n",
       "      <th>4</th>\n",
       "      <td>0.070942310344944415</td>\n",
       "      <td>1.323907685509638998</td>\n",
       "      <td>1</td>\n",
       "    </tr>\n",
       "    <tr>\n",
       "      <th>5</th>\n",
       "      <td>-3.611438986662380835</td>\n",
       "      <td>2.766982877129341212</td>\n",
       "      <td>-1</td>\n",
       "    </tr>\n",
       "    <tr>\n",
       "      <th>6</th>\n",
       "      <td>2.067335967543106001</td>\n",
       "      <td>-1.403965006588862252</td>\n",
       "      <td>1</td>\n",
       "    </tr>\n",
       "    <tr>\n",
       "      <th>7</th>\n",
       "      <td>1.682393738090121271</td>\n",
       "      <td>-0.469672055702129276</td>\n",
       "      <td>1</td>\n",
       "    </tr>\n",
       "    <tr>\n",
       "      <th>8</th>\n",
       "      <td>-1.775218722729108300</td>\n",
       "      <td>1.750100814230383772</td>\n",
       "      <td>-1</td>\n",
       "    </tr>\n",
       "    <tr>\n",
       "      <th>9</th>\n",
       "      <td>-3.189530681586797201</td>\n",
       "      <td>3.094746345620624783</td>\n",
       "      <td>-1</td>\n",
       "    </tr>\n",
       "  </tbody>\n",
       "</table>\n",
       "</div>"
      ],
      "text/plain": [
       "                       x                      y  labels\n",
       "0  -4.172616860152805529   2.833352012127022590      -1\n",
       "1  -3.416728713172945575   2.351908736762950092      -1\n",
       "2   1.108897540218610756   0.207458479638210597       1\n",
       "3  -2.025220981104188134   3.025074065590016126      -1\n",
       "4   0.070942310344944415   1.323907685509638998       1\n",
       "5  -3.611438986662380835   2.766982877129341212      -1\n",
       "6   2.067335967543106001  -1.403965006588862252       1\n",
       "7   1.682393738090121271  -0.469672055702129276       1\n",
       "8  -1.775218722729108300   1.750100814230383772      -1\n",
       "9  -3.189530681586797201   3.094746345620624783      -1"
      ]
     },
     "execution_count": 29,
     "metadata": {},
     "output_type": "execute_result"
    }
   ],
   "source": [
    "data2.head(10)"
   ]
  },
  {
   "cell_type": "code",
   "execution_count": 30,
   "id": "84bfc92e",
   "metadata": {},
   "outputs": [
    {
     "name": "stdout",
     "output_type": "stream",
     "text": [
      "<class 'pandas.core.frame.DataFrame'>\n",
      "RangeIndex: 49 entries, 0 to 48\n",
      "Data columns (total 3 columns):\n",
      " #   Column  Non-Null Count  Dtype \n",
      "---  ------  --------------  ----- \n",
      " 0   x       49 non-null     object\n",
      " 1   y       49 non-null     object\n",
      " 2   labels  49 non-null     int64 \n",
      "dtypes: int64(1), object(2)\n",
      "memory usage: 1.3+ KB\n"
     ]
    }
   ],
   "source": [
    "\n",
    "data2.info()"
   ]
  },
  {
   "cell_type": "code",
   "execution_count": 31,
   "id": "317ec831",
   "metadata": {},
   "outputs": [],
   "source": [
    "data2['x']=data2['x'].astype('float')\n",
    "data2['y']=data2['y'].astype('float')\n"
   ]
  },
  {
   "cell_type": "code",
   "execution_count": 32,
   "id": "1c727a1d",
   "metadata": {},
   "outputs": [],
   "source": [
    "x1=data2['x'].to_numpy()"
   ]
  },
  {
   "cell_type": "code",
   "execution_count": 33,
   "id": "291d8f50",
   "metadata": {},
   "outputs": [],
   "source": [
    "x2=data2['y'].to_numpy()"
   ]
  },
  {
   "cell_type": "code",
   "execution_count": 34,
   "id": "1bc44ba8",
   "metadata": {},
   "outputs": [
    {
     "data": {
      "text/plain": [
       "array([-1, -1,  1, -1,  1, -1,  1,  1, -1, -1, -1,  1, -1, -1, -1,  1, -1,\n",
       "        1, -1, -1,  1, -1,  1, -1, -1,  1,  1, -1,  1,  1,  1, -1,  1,  1,\n",
       "        1,  1, -1, -1,  1,  1,  1,  1,  1,  1, -1,  1, -1, -1, -1],\n",
       "      dtype=int64)"
      ]
     },
     "execution_count": 34,
     "metadata": {},
     "output_type": "execute_result"
    }
   ],
   "source": [
    "labels=data2['labels'].to_numpy()\n",
    "labels"
   ]
  },
  {
   "cell_type": "code",
   "execution_count": 35,
   "id": "3e927a8e",
   "metadata": {},
   "outputs": [],
   "source": [
    "truelabel=data2.query('labels==1')\n",
    "falselabel=data2.query('labels==-1')"
   ]
  },
  {
   "cell_type": "code",
   "execution_count": 36,
   "id": "9e8136b6",
   "metadata": {},
   "outputs": [
    {
     "data": {
      "text/plain": [
       "<matplotlib.collections.PathCollection at 0x17cec9113d0>"
      ]
     },
     "execution_count": 36,
     "metadata": {},
     "output_type": "execute_result"
    },
    {
     "data": {
      "image/png": "[encoded data removed]",
      "text/plain": [
       "<Figure size 640x480 with 1 Axes>"
      ]
     },
     "metadata": {},
     "output_type": "display_data"
    }
   ],
   "source": [
    "plt.scatter(data2['x'],data2['y'])"
   ]
  },
  {
   "cell_type": "code",
   "execution_count": 37,
   "id": "11fd1ce5",
   "metadata": {},
   "outputs": [
    {
     "data": {
      "image/png": "[encoded data removed]",
      "text/plain": [
       "<Figure size 640x480 with 1 Axes>"
      ]
     },
     "metadata": {},
     "output_type": "display_data"
    }
   ],
   "source": [
    "#исходные данные \n",
    "plt.scatter(truelabel['x'],truelabel['y'],color=(0,1,0));\n",
    "plt.scatter(falselabel['x'],falselabel['y'],color=(1,0,0));\n",
    "plt.show()"
   ]
  },
  {
   "cell_type": "code",
   "execution_count": 38,
   "id": "78035a71",
   "metadata": {},
   "outputs": [],
   "source": [
    "n=len(data2['x'])"
   ]
  },
  {
   "cell_type": "code",
   "execution_count": 39,
   "id": "b3b345c1",
   "metadata": {},
   "outputs": [],
   "source": [
    "points=np.array([[x1[i],x2[i]] for i in range(n)])"
   ]
  },
  {
   "cell_type": "code",
   "execution_count": 40,
   "id": "a819ef60",
   "metadata": {},
   "outputs": [
    {
     "data": {
      "text/plain": [
       "-3.300878654855113"
      ]
     },
     "execution_count": 40,
     "metadata": {},
     "output_type": "execute_result"
    }
   ],
   "source": [
    "np.dot(points[1],points[2])"
   ]
  },
  {
   "cell_type": "code",
   "execution_count": 41,
   "id": "aba6c279",
   "metadata": {},
   "outputs": [
    {
     "data": {
      "text/plain": [
       "49"
      ]
     },
     "execution_count": 41,
     "metadata": {},
     "output_type": "execute_result"
    }
   ],
   "source": [
    "len(data2['x'])"
   ]
  },
  {
   "cell_type": "code",
   "execution_count": 42,
   "id": "442895cc",
   "metadata": {},
   "outputs": [],
   "source": [
    "#решение двойственной задачи"
   ]
  },
  {
   "cell_type": "code",
   "execution_count": 43,
   "id": "f8d589a1",
   "metadata": {},
   "outputs": [],
   "source": [
    "C=1\n",
    "\n",
    "def dualproblemmax(lambd):\n",
    "    sm=lambd.sum()\n",
    "    totsum=0\n",
    "    mainsum=0\n",
    "    for i in range(n):\n",
    "        for j in range(n):\n",
    "            if i==j:\n",
    "                mainsum+=0.5*labels[i]*labels[j]*lambd[i]*lambd[j]*np.dot(points[i],points[j]) \n",
    "            else:\n",
    "                mainsum+=0.5*labels[i]*labels[j]*lambd[i]*lambd[j]*(np.dot(points[i],points[j]) +1/C)\n",
    "    totsum=sm-mainsum\n",
    "    return -totsum\n",
    "                \n",
    "            "
   ]
  },
  {
   "cell_type": "code",
   "execution_count": 44,
   "id": "480fd94c",
   "metadata": {},
   "outputs": [],
   "source": [
    "from scipy.optimize import minimize"
   ]
  },
  {
   "cell_type": "code",
   "execution_count": 45,
   "id": "725f799d",
   "metadata": {},
   "outputs": [],
   "source": [
    "def fun(lambd):\n",
    "    return np.dot(labels,lambd)-C"
   ]
  },
  {
   "cell_type": "code",
   "execution_count": 46,
   "id": "85e1836c",
   "metadata": {},
   "outputs": [],
   "source": [
    "lambda0=np.zeros(n)\n",
    "bounds=[(0,C) for i in range(n)]\n",
    "constraints={'type':'eq','fun':fun} \n",
    "rez=minimize(dualproblemmax,lambda0,bounds=bounds,constraints=constraints,method='SLSQP')"
   ]
  },
  {
   "cell_type": "code",
   "execution_count": 47,
   "id": "e49464bb",
   "metadata": {},
   "outputs": [
    {
     "data": {
      "text/plain": [
       "array([0.00000000e+00, 0.00000000e+00, 0.00000000e+00, 9.51407110e-11,\n",
       "       1.54163716e-09, 0.00000000e+00, 6.93816062e-12, 0.00000000e+00,\n",
       "       1.00000000e+00, 1.60381586e-12, 1.00000000e+00, 1.00000000e+00,\n",
       "       9.99999998e-01, 0.00000000e+00, 6.10197429e-01, 0.00000000e+00,\n",
       "       3.16202997e-10, 0.00000000e+00, 0.00000000e+00, 0.00000000e+00,\n",
       "       6.10197416e-01, 1.00000000e+00, 1.00000000e+00, 1.22004145e-10,\n",
       "       7.83241157e-12, 9.01157026e-12, 1.00000000e+00, 0.00000000e+00,\n",
       "       2.57830280e-12, 1.04506885e-10, 1.09556463e-10, 0.00000000e+00,\n",
       "       0.00000000e+00, 0.00000000e+00, 1.00000000e+00, 1.00000000e+00,\n",
       "       2.25815424e-12, 5.79129565e-11, 6.62347184e-12, 1.00000000e+00,\n",
       "       0.00000000e+00, 0.00000000e+00, 0.00000000e+00, 0.00000000e+00,\n",
       "       1.00000000e+00, 1.00000000e+00, 0.00000000e+00, 0.00000000e+00,\n",
       "       1.00000000e+00])"
      ]
     },
     "execution_count": 47,
     "metadata": {},
     "output_type": "execute_result"
    }
   ],
   "source": [
    "result=rez.x\n",
    "result"
   ]
  },
  {
   "cell_type": "code",
   "execution_count": 48,
   "id": "fc33aea5",
   "metadata": {},
   "outputs": [],
   "source": [
    "sv=result>0.001"
   ]
  },
  {
   "cell_type": "code",
   "execution_count": 49,
   "id": "b301d5b7",
   "metadata": {},
   "outputs": [
    {
     "data": {
      "text/plain": [
       "array([False, False, False, False, False, False, False, False,  True,\n",
       "       False,  True,  True,  True, False,  True, False, False, False,\n",
       "       False, False,  True,  True,  True, False, False, False,  True,\n",
       "       False, False, False, False, False, False, False,  True,  True,\n",
       "       False, False, False,  True, False, False, False, False,  True,\n",
       "        True, False, False,  True])"
      ]
     },
     "execution_count": 49,
     "metadata": {},
     "output_type": "execute_result"
    }
   ],
   "source": [
    "sv"
   ]
  },
  {
   "cell_type": "code",
   "execution_count": 50,
   "id": "3a3a5eec",
   "metadata": {},
   "outputs": [],
   "source": [
    "#находим индексы опорных векторов"
   ]
  },
  {
   "cell_type": "code",
   "execution_count": 51,
   "id": "7fd8ddc3",
   "metadata": {},
   "outputs": [],
   "source": [
    "svlabel=data2['labels'][sv].index"
   ]
  },
  {
   "cell_type": "code",
   "execution_count": 52,
   "id": "ae13f61f",
   "metadata": {},
   "outputs": [
    {
     "data": {
      "text/plain": [
       "Index([8, 10, 11, 12, 14, 20, 21, 22, 26, 34, 35, 39, 44, 45, 48], dtype='int64')"
      ]
     },
     "execution_count": 52,
     "metadata": {},
     "output_type": "execute_result"
    }
   ],
   "source": [
    "svlabel"
   ]
  },
  {
   "cell_type": "code",
   "execution_count": 53,
   "id": "b34e18b6",
   "metadata": {},
   "outputs": [],
   "source": [
    "#data2['x'][svlabel]"
   ]
  },
  {
   "cell_type": "code",
   "execution_count": 54,
   "id": "b6082a7e",
   "metadata": {},
   "outputs": [
    {
     "data": {
      "image/png": "[encoded data removed]",
      "text/plain": [
       "<Figure size 640x480 with 1 Axes>"
      ]
     },
     "metadata": {},
     "output_type": "display_data"
    }
   ],
   "source": [
    "plt.scatter(truelabel['x'],truelabel['y'],color=(0,1,0));\n",
    "plt.scatter(falselabel['x'],falselabel['y'],color=(1,0,0));\n",
    "plt.scatter(data2['x'][svlabel],data2['y'][svlabel],color=(0,0,1));#опорные вектора\n",
    "plt.show()"
   ]
  },
  {
   "cell_type": "code",
   "execution_count": 55,
   "id": "01a808c8",
   "metadata": {},
   "outputs": [
    {
     "data": {
      "text/plain": [
       "array([1.        , 1.        , 1.        , 1.        , 0.61019743,\n",
       "       0.61019742, 1.        , 1.        , 1.        , 1.        ,\n",
       "       1.        , 1.        , 1.        , 1.        , 1.        ])"
      ]
     },
     "execution_count": 55,
     "metadata": {},
     "output_type": "execute_result"
    }
   ],
   "source": [
    "ov=result[result>0.01]\n",
    "ov"
   ]
  },
  {
   "cell_type": "code",
   "execution_count": 56,
   "id": "853241a4",
   "metadata": {},
   "outputs": [
    {
     "data": {
      "text/plain": [
       "array([1.75010081, 3.31758399, 2.58416187, 2.09546783, 2.1224336 ,\n",
       "       0.8531029 , 2.61370944, 1.92215838, 2.84015081, 1.43007152,\n",
       "       0.67949717, 2.36203373, 0.07359479, 0.48741337, 2.30752975])"
      ]
     },
     "execution_count": 56,
     "metadata": {},
     "output_type": "execute_result"
    }
   ],
   "source": [
    "npy=data2['y'][svlabel].reset_index(drop='True').to_numpy()\n",
    "npy"
   ]
  },
  {
   "cell_type": "code",
   "execution_count": 57,
   "id": "54c139ac",
   "metadata": {},
   "outputs": [
    {
     "data": {
      "text/plain": [
       "array([-1.77521872, -0.32652952, -0.9542336 , -2.03197243, -2.06444589,\n",
       "       -0.07998159, -1.66890647,  0.06742314, -1.13837034, -2.99485505,\n",
       "       -0.77038363, -0.2869609 ,  0.99537473, -0.54361695, -1.82455597])"
      ]
     },
     "execution_count": 57,
     "metadata": {},
     "output_type": "execute_result"
    }
   ],
   "source": [
    "npx=data2['x'][svlabel].reset_index(drop='True').to_numpy()\n",
    "npx"
   ]
  },
  {
   "cell_type": "code",
   "execution_count": 58,
   "id": "af7c83f4",
   "metadata": {},
   "outputs": [
    {
     "data": {
      "text/plain": [
       "array([-1, -1,  1, -1, -1,  1, -1,  1,  1,  1,  1,  1, -1,  1, -1],\n",
       "      dtype=int64)"
      ]
     },
     "execution_count": 58,
     "metadata": {},
     "output_type": "execute_result"
    }
   ],
   "source": [
    "npl=data2['labels'][svlabel].reset_index(drop='True').to_numpy()\n",
    "npl"
   ]
  },
  {
   "cell_type": "code",
   "execution_count": 59,
   "id": "9f7ff7d5",
   "metadata": {},
   "outputs": [],
   "source": [
    "#np.dot((1,2),(3,3))"
   ]
  },
  {
   "cell_type": "code",
   "execution_count": 60,
   "id": "daa71582",
   "metadata": {},
   "outputs": [],
   "source": [
    "# Построим оптимальную разделяющую гиперплоскость\n",
    "def hyperpl(data,x):\n",
    "    res=0\n",
    "    for i in range(len(ov)):\n",
    "        res+=npl[i]*ov[i]*np.dot((npx[i],npy[i]),(x))\n",
    "    return res    "
   ]
  },
  {
   "cell_type": "code",
   "execution_count": 61,
   "id": "4070eb1c",
   "metadata": {},
   "outputs": [
    {
     "data": {
      "text/plain": [
       "-0.03235812003672445"
      ]
     },
     "execution_count": 61,
     "metadata": {},
     "output_type": "execute_result"
    }
   ],
   "source": [
    "hyperpl(data2,(1,2))"
   ]
  },
  {
   "cell_type": "code",
   "execution_count": 62,
   "id": "42ef5d25",
   "metadata": {},
   "outputs": [
    {
     "data": {
      "text/plain": [
       "-5.546304543031509"
      ]
     },
     "execution_count": 62,
     "metadata": {},
     "output_type": "execute_result"
    }
   ],
   "source": [
    "hyperpl(data2,(-3,3))"
   ]
  },
  {
   "cell_type": "code",
   "execution_count": 63,
   "id": "e3fed05e",
   "metadata": {},
   "outputs": [],
   "source": [
    "res=0\n",
    "for i in range(len(ov)):\n",
    "    res+=npl[i]*ov[i]*np.array([npx[i],npy[i]])\n"
   ]
  },
  {
   "cell_type": "code",
   "execution_count": 64,
   "id": "69668853",
   "metadata": {},
   "outputs": [
    {
     "data": {
      "text/plain": [
       "array([ 1.22172608, -0.6270421 ])"
      ]
     },
     "execution_count": 64,
     "metadata": {},
     "output_type": "execute_result"
    }
   ],
   "source": [
    "res"
   ]
  },
  {
   "cell_type": "markdown",
   "id": "9bf178cd",
   "metadata": {},
   "source": [
    "Теперь найдем b и вектор весов\n",
    "Найдем вектор весов как линейную комбинацию опорных векторов\n",
    "$$w=\\sum_i^k(y_i \\lambda_i \\vec{x_i})$$\n",
    "Тогда потом b найдем из условия \n",
    "$$y_i f(\\vec(x_i)+b)=1-\\frac{\\lambda_i}{C}$$\n",
    "Тогда для первого вектора получим b=3.266"
   ]
  },
  {
   "cell_type": "code",
   "execution_count": 65,
   "id": "cc43c3fd",
   "metadata": {},
   "outputs": [
    {
     "data": {
      "text/plain": [
       "-3.266217902814266"
      ]
     },
     "execution_count": 65,
     "metadata": {},
     "output_type": "execute_result"
    }
   ],
   "source": [
    "\n",
    "resf=0\n",
    "for i in range(len(ov)):\n",
    "    resf+=npl[i]*ov[i]*np.dot((npx[i],npy[i]),(npx[0],npy[0]))\n",
    "resf    "
   ]
  },
  {
   "cell_type": "code",
   "execution_count": 66,
   "id": "b40b8fac",
   "metadata": {},
   "outputs": [],
   "source": [
    "\n",
    "b=npl[0]*resf\n"
   ]
  },
  {
   "cell_type": "markdown",
   "id": "b5693721",
   "metadata": {},
   "source": [
    "данные и разделяющая гиперплоскость"
   ]
  },
  {
   "cell_type": "code",
   "execution_count": 67,
   "id": "04e3dc7e",
   "metadata": {},
   "outputs": [
    {
     "data": {
      "image/png": "[encoded data removed]",
      "text/plain": [
       "<Figure size 640x480 with 1 Axes>"
      ]
     },
     "metadata": {},
     "output_type": "display_data"
    }
   ],
   "source": [
    "plt.scatter(truelabel['x'],truelabel['y'],color=(0,1,0));\n",
    "plt.scatter(falselabel['x'],falselabel['y'],color=(1,0,0));\n",
    "\n",
    "plt.plot(np.linspace(-4,4,50),(res[0]/(-res[1]))*np.linspace(-4,4,50)+b/(-res[1]),color=(0,0,1))\n",
    "\n",
    "plt.show()"
   ]
  },
  {
   "cell_type": "code",
   "execution_count": null,
   "id": "b3fef82c",
   "metadata": {},
   "outputs": [],
   "source": []
  }
 ],
 "metadata": {
  "kernelspec": {
   "display_name": "Python 3 (ipykernel)",
   "language": "python",
   "name": "python3"
  },
  "language_info": {
   "codemirror_mode": {
    "name": "ipython",
    "version": 3
   },
   "file_extension": ".py",
   "mimetype": "text/x-python",
   "name": "python",
   "nbconvert_exporter": "python",
   "pygments_lexer": "ipython3",
   "version": "3.11.5"
  }
 },
 "nbformat": 4,
 "nbformat_minor": 5
}
